{
 "cells": [
  {
   "cell_type": "markdown",
   "id": "ef2bff7b-2ded-4a9c-8ad3-2ea65fbfeec2",
   "metadata": {},
   "source": [
    "# Part 2 - Vector Data"
   ]
  },
  {
   "cell_type": "markdown",
   "id": "79aa95cd-6ee6-4fe8-8e2c-b830aa94e8b6",
   "metadata": {},
   "source": [
    "In this, second, notebook we will focus on vector data.\n",
    "\n",
    "This notebook was designed for a session as part of the UKCEH Summer School. It does not cover all aspects of vector data use by the Python scientific communities. Additional resources can be found throughout the notebook."
   ]
  },
  {
   "cell_type": "markdown",
   "id": "54e4da2f-a683-4629-ad20-75aae5cbad9d",
   "metadata": {},
   "source": [
    "## Contents"
   ]
  },
  {
   "cell_type": "markdown",
   "id": "a867e9bc-8f19-4a75-967b-1a54367fd19d",
   "metadata": {},
   "source": [
    "- Shapefiles\n",
    "    - Plotting and exploring shapefiles using Geopandas\n",
    "    - Using Cartopy to enhance shapefile plotting\n",
    "    - Interactive maps via Folium and Geopandas 'explore' method\n",
    "- GeoJSON data\n",
    "- Textual vector data"
   ]
  },
  {
   "cell_type": "code",
   "execution_count": null,
   "id": "1be6d88e-7ec6-406e-95a6-bca072e5b437",
   "metadata": {},
   "outputs": [],
   "source": [
    "%%capture\n",
    "!pip install cartopy s3fs mapclassify"
   ]
  },
  {
   "cell_type": "code",
   "execution_count": null,
   "id": "aaae7e35-02f0-4a52-a63e-34ba79629975",
   "metadata": {},
   "outputs": [],
   "source": [
    "import numpy as np\n",
    "import pandas as pd\n",
    "import geopandas as gpd\n",
    "import cartopy as cp\n",
    "import xarray as xr\n",
    "from dask.diagnostics import ProgressBar\n",
    "import matplotlib.pyplot as plt\n",
    "import folium\n",
    "import s3fs"
   ]
  },
  {
   "cell_type": "markdown",
   "id": "7011d05e-7a6f-4655-ba51-70a47abb4f5d",
   "metadata": {},
   "source": [
    "## Shapefiles"
   ]
  },
  {
   "cell_type": "markdown",
   "id": "604760ed-f501-4795-9324-6c1e48bf25bf",
   "metadata": {},
   "source": [
    "Shapefiles are files that contain vectors (shapes) geo-referenced to a particular coordinate system"
   ]
  },
  {
   "cell_type": "markdown",
   "id": "889ce36c-508b-4af1-ab16-7a7bf747b1e6",
   "metadata": {},
   "source": [
    "They are often used in hydrology to define catchment areas, river channels and hydrological administrative regions. "
   ]
  },
  {
   "cell_type": "markdown",
   "id": "16bde19e-e72e-4168-869e-c94dc8f6c9aa",
   "metadata": {},
   "source": [
    "Each 'shape' in a shapefile will typically have a set of attributes that tell you more information about the shape, such as the name of the river or catchment it defines. "
   ]
  },
  {
   "cell_type": "markdown",
   "id": "717ab1ae-5550-4e48-876b-420fea6dda63",
   "metadata": {},
   "source": [
    "The easiest way to see what's in a shapefile in python is to use a package called [Geopandas](https://geopandas.org/en/stable/). It is essentially an extension of the [Pandas](https://pandas.pydata.org/) package, which is used to work with tabular data, and that we saw in Part 1."
   ]
  },
  {
   "cell_type": "markdown",
   "id": "0becb0e2-82b4-4b8b-b7f1-dd0ae5cfdda1",
   "metadata": {},
   "source": [
    "**Sidenote:** Shapefiles often confusingly come with several ancillary files. The main shapefile will have a **'.shp'** ending, with ancillaries ending with some or all of **'shx', '.sbx', '.sbn', '.dbf', '.cpg', '.prj'**, which provide additional information about the vectors/shapes contained in the **'.shp'** file. Most shapefile packages in python and elsewhere will read in the information they need from these ancillary files automatically if you provide the path to the **'.shp'** file, and therefore most of the time you can ignore them! If reading the shapefiles from an S3 object storage filesystem, like we are doing below, the ancillary files need to be zipped up together with the **'.shp'** file and the zip archive read in for the ancillaries to be automatically loaded. "
   ]
  },
  {
   "cell_type": "code",
   "execution_count": null,
   "id": "bf55eba3-27d3-41b1-861f-007f0869a620",
   "metadata": {},
   "outputs": [],
   "source": [
    "# Set up the S3 (object storage) filesystem object\n",
    "s3 = s3fs.S3FileSystem(anon=True, endpoint_url=\"https://fdri-o.s3-ext.jc.rl.ac.uk\")"
   ]
  },
  {
   "cell_type": "code",
   "execution_count": null,
   "id": "718eb3d6-1378-43dc-82ff-88d657027ef5",
   "metadata": {},
   "outputs": [],
   "source": [
    "# Read from the filesystem - note the zip as explained above\n",
    "shapefile = gpd.read_file(s3.open('s3://example-data/gb_catchments.zip'))"
   ]
  },
  {
   "cell_type": "code",
   "execution_count": null,
   "id": "28e7212b-db95-47a4-9cb3-4eccb371fb9e",
   "metadata": {},
   "outputs": [],
   "source": [
    "shapefile"
   ]
  },
  {
   "cell_type": "markdown",
   "id": "7f00de36-352b-4444-8eae-26922c77357b",
   "metadata": {},
   "source": [
    "The tabular representation of the shapefile shows each shape in the shapefile as a separate row. Each column shows an attribute of the shapes, with the actual vector geometry stored in the final column."
   ]
  },
  {
   "cell_type": "markdown",
   "id": "50fd71b7-ab68-4331-83f9-ff3d56c236ef",
   "metadata": {},
   "source": [
    "We can select out one of the rows and plot it to see what it looks like, much like we could do with Pandas:"
   ]
  },
  {
   "cell_type": "code",
   "execution_count": null,
   "id": "83dfc3ab-4519-4623-9f9a-dcea7e16ea0a",
   "metadata": {},
   "outputs": [],
   "source": [
    "shapefile.iloc[[0],:].plot()"
   ]
  },
  {
   "cell_type": "markdown",
   "id": "2f653e79-c455-4141-b03f-420c637c13ff",
   "metadata": {},
   "source": [
    "Hmm, that's not wonderfully helpful. Let's see if we can find out some more information about it. "
   ]
  },
  {
   "cell_type": "markdown",
   "id": "3d97c4a4-e7db-4c9f-8b15-82e15fbd5456",
   "metadata": {},
   "source": [
    "**Sidenote:** the extra '[]' around the 0 below, which isn't usually necessary. Here they are needed to ensure that the output of the command remains a 'Table' rather than a 'Series'. Geopandas only knows about Tables, not Series, so to retain the geographical capabilities of Geopandas, we need to retain the table! "
   ]
  },
  {
   "cell_type": "code",
   "execution_count": null,
   "id": "4a2b07c2-c827-4d8c-a0df-c2ef756d3937",
   "metadata": {},
   "outputs": [],
   "source": [
    "shapefile.iloc[[0],:]"
   ]
  },
  {
   "cell_type": "markdown",
   "id": "383a680d-42bc-4641-a84b-9afca0470aeb",
   "metadata": {},
   "source": [
    "The attributes aren't wonderfully helpful either. All we've got to go is some numeric identifiers."
   ]
  },
  {
   "cell_type": "markdown",
   "id": "918d04ad-e9ee-46b0-995b-68c72f2a78f6",
   "metadata": {},
   "source": [
    "Sometimes the 'attrs' command below can produce some more information:"
   ]
  },
  {
   "cell_type": "code",
   "execution_count": null,
   "id": "fc9eaf70-98c0-4356-84b2-61c34331368a",
   "metadata": {},
   "outputs": [],
   "source": [
    "shapefile.attrs"
   ]
  },
  {
   "cell_type": "markdown",
   "id": "3c675969-8591-49dd-a73e-a64befbda984",
   "metadata": {},
   "source": [
    "But not this time. If this shapefile was following [FAIR](https://www.go-fair.org/fair-principles/)\\* guidelines it should have some more useful metadata!\n",
    "\n",
    "\\*Findable, Accessible, Interoperable, Reproducable"
   ]
  },
  {
   "cell_type": "markdown",
   "id": "58dbd29d-f449-4f90-8b37-f5356352a4fd",
   "metadata": {},
   "source": [
    "Fortunately for us, I know what this dataset is, and it's a collection of all the catchments in the UK. "
   ]
  },
  {
   "cell_type": "markdown",
   "id": "86b16ed5-6adc-4477-9333-25208b1106ed",
   "metadata": {},
   "source": [
    "Perhaps we can get an impression of this if we plot the entire file, i.e. all the catchments it contains:"
   ]
  },
  {
   "cell_type": "code",
   "execution_count": null,
   "id": "72e8ddb9-28f8-40ef-bda3-d6a22e4fd906",
   "metadata": {},
   "outputs": [],
   "source": [
    "shapefile.plot()"
   ]
  },
  {
   "cell_type": "markdown",
   "id": "d96fddb6-6653-4f7e-bcfd-883d0187752e",
   "metadata": {},
   "source": [
    "We can now see that it looks like a map of the UK, but the overlapping nature of the catchments makes it hard to make out much detail. We can fix that!"
   ]
  },
  {
   "cell_type": "code",
   "execution_count": null,
   "id": "9fe23714-0d24-4724-90e3-33bea63a53cf",
   "metadata": {},
   "outputs": [],
   "source": [
    "shapefile.plot(facecolor='None')"
   ]
  },
  {
   "cell_type": "markdown",
   "id": "8b556131-1ddf-4013-b496-e99e1e42db00",
   "metadata": {},
   "source": [
    "We've now made the shapes transparent and just drawn their borders instead, but it's still hard to make out any detail because there's too many overlapping catchments! Let's focus on an individual catchment instead."
   ]
  },
  {
   "cell_type": "markdown",
   "id": "2f0ecab6-1902-4478-8345-b72fc3dcd939",
   "metadata": {},
   "source": [
    "I happen to know that the [Thames](https://nrfa.ceh.ac.uk/data/station/spatial/39001) has catchment ID 39001. Given the catchment ID is one of the attributes listed in the table, we can use it to select this specific catchment from the table."
   ]
  },
  {
   "cell_type": "code",
   "execution_count": null,
   "id": "1e078d6d-2c1d-4c6c-af16-31ce47e76275",
   "metadata": {},
   "outputs": [],
   "source": [
    "thames = shapefile.loc[shapefile['ID_STRING'] == '39001']"
   ]
  },
  {
   "cell_type": "code",
   "execution_count": null,
   "id": "59673b1e-3e9e-4edd-8476-ff27d85dc5fd",
   "metadata": {},
   "outputs": [],
   "source": [
    "thames"
   ]
  },
  {
   "cell_type": "markdown",
   "id": "86fd6c5a-07c8-45b7-8720-1fdc5c017d89",
   "metadata": {},
   "source": [
    "Let's plot it to check if looks the right shape:"
   ]
  },
  {
   "cell_type": "code",
   "execution_count": null,
   "id": "4f390f8d-63c0-4c99-b11a-de22016e6220",
   "metadata": {},
   "outputs": [],
   "source": [
    "thames.plot()"
   ]
  },
  {
   "cell_type": "markdown",
   "id": "5cc3a020-528a-42ab-ba9c-c242cd079cc7",
   "metadata": {},
   "source": [
    "I also happen to know that all the sub-catchments of the Thames basin will begin with '39', followed by a three-digit 0-padded number. Let's select all those out:"
   ]
  },
  {
   "cell_type": "code",
   "execution_count": null,
   "id": "f8cd1d5c-385c-4a8f-a0e8-7db7c3904478",
   "metadata": {},
   "outputs": [],
   "source": [
    "all_thames = shapefile.loc[lambda ds: ds['ID'] > 39000].loc[lambda ds: ds['ID'] < 40000]"
   ]
  },
  {
   "cell_type": "markdown",
   "id": "cf78a4e2-41f8-4adc-908a-8e8171255466",
   "metadata": {},
   "source": [
    "**Note** how we are now using the 'ID' attribute instead of the 'ID_STRING' to allow numerical comparisons."
   ]
  },
  {
   "cell_type": "code",
   "execution_count": null,
   "id": "c02fa0a1-0703-4639-9ab6-4309783eb32b",
   "metadata": {},
   "outputs": [],
   "source": [
    "all_thames"
   ]
  },
  {
   "cell_type": "code",
   "execution_count": null,
   "id": "cd4e8662-f6d3-4418-bf8e-40fefd24b3ea",
   "metadata": {},
   "outputs": [],
   "source": [
    "all_thames.plot()"
   ]
  },
  {
   "cell_type": "markdown",
   "id": "401bc910-37eb-44ff-9395-445959bfa37e",
   "metadata": {},
   "source": [
    "Hmm that doesn't look any different."
   ]
  },
  {
   "cell_type": "markdown",
   "id": "69829567-5b18-4ba9-ab2a-32dae35276e0",
   "metadata": {},
   "source": [
    "That's because we need to set facecolor to 'None' again so that the shapes are not filled with colour:"
   ]
  },
  {
   "cell_type": "code",
   "execution_count": null,
   "id": "73576533-9dbb-404b-b7d5-4880fb6b8f17",
   "metadata": {},
   "outputs": [],
   "source": [
    "all_thames.plot(facecolor='None')"
   ]
  },
  {
   "cell_type": "markdown",
   "id": "3749efd9-c530-4d25-8678-dab07070ac08",
   "metadata": {},
   "source": [
    "Now we're starting to get a better picture of what the Thames basin looks like!"
   ]
  },
  {
   "cell_type": "code",
   "execution_count": null,
   "id": "f73b995e-3c45-4c96-ab31-c94d3e0a81e5",
   "metadata": {},
   "outputs": [],
   "source": [
    "shapefile"
   ]
  },
  {
   "cell_type": "markdown",
   "id": "95bad074-e060-4f32-a45e-27c1fef4c638",
   "metadata": {},
   "source": [
    "Notice that for some reason the attribute 'SHAPE_AREA' is 0.0 for all catchments. That's annoying, as this is a genuinely useful catchment property we might want to use."
   ]
  },
  {
   "cell_type": "markdown",
   "id": "f799d9a5-d54c-4fd6-b83b-b93a330b0370",
   "metadata": {},
   "source": [
    "Fortunately, Geopandas is able to calculate the area for us, based on the geometeries in the 'geometry' column. "
   ]
  },
  {
   "cell_type": "code",
   "execution_count": null,
   "id": "68af1b5e-a306-43d6-be4b-1951c8da096b",
   "metadata": {},
   "outputs": [],
   "source": [
    "shapefile.area"
   ]
  },
  {
   "cell_type": "markdown",
   "id": "5dd8ccfd-2416-46ed-8519-ac643e3e610d",
   "metadata": {},
   "source": [
    "Let's assign these area values to a new column:"
   ]
  },
  {
   "cell_type": "code",
   "execution_count": null,
   "id": "94f98f4c-3e3f-48a0-88d6-638b0c3b7454",
   "metadata": {},
   "outputs": [],
   "source": [
    "shapefile['catchment_areas'] = shapefile.area"
   ]
  },
  {
   "cell_type": "code",
   "execution_count": null,
   "id": "4ac335a0-a5fc-4336-aacc-00f5efd58a21",
   "metadata": {},
   "outputs": [],
   "source": [
    "shapefile"
   ]
  },
  {
   "cell_type": "markdown",
   "id": "ae3df5c6-6c26-40d8-80c3-3e357e4477c3",
   "metadata": {},
   "source": [
    "Now that we have this information, let's do something with it. "
   ]
  },
  {
   "cell_type": "markdown",
   "id": "2a634d1f-3b09-4ba9-99b2-b19f16416ec5",
   "metadata": {},
   "source": [
    "Perhaps we're interested in finding the largest and smallest catchments within the Thames basin"
   ]
  },
  {
   "cell_type": "code",
   "execution_count": null,
   "id": "11473462-76ce-483d-aeab-529fc02fb6d3",
   "metadata": {},
   "outputs": [],
   "source": [
    "all_thames = shapefile.loc[lambda df: df['ID'] > 39000].loc[lambda df: df['ID'] < 40000]"
   ]
  },
  {
   "cell_type": "code",
   "execution_count": null,
   "id": "c5ec329e-372b-4a69-be3d-0bbc7d8e83a6",
   "metadata": {},
   "outputs": [],
   "source": [
    "all_thames_sorted = all_thames.sort_values('catchment_areas')"
   ]
  },
  {
   "cell_type": "code",
   "execution_count": null,
   "id": "223e81df-fa44-4cf9-96bc-b9951ea0c40a",
   "metadata": {},
   "outputs": [],
   "source": [
    "all_thames_sorted"
   ]
  },
  {
   "cell_type": "markdown",
   "id": "da20a599-7e2f-4a70-8e0d-5f237544c370",
   "metadata": {},
   "source": [
    "Looks like the smallest is at the top, largest is at the bottom."
   ]
  },
  {
   "cell_type": "code",
   "execution_count": null,
   "id": "02a9cc97-ca57-4241-8784-d00f57514dbf",
   "metadata": {},
   "outputs": [],
   "source": [
    "smallest_thames = all_thames_sorted.iloc[[0],:]"
   ]
  },
  {
   "cell_type": "markdown",
   "id": "010238a0-0c3b-457f-bffc-f591bfd79724",
   "metadata": {},
   "source": [
    "**Note:** We want the second largest in this table, as the largest is the whole Thames basin itself, and we want the largest *within* this"
   ]
  },
  {
   "cell_type": "code",
   "execution_count": null,
   "id": "eac25619-2c2e-4c89-9841-151436aa6fb0",
   "metadata": {},
   "outputs": [],
   "source": [
    "largest_thames = all_thames_sorted.iloc[[-2],:]"
   ]
  },
  {
   "cell_type": "markdown",
   "id": "170cd4b7-1ef7-45e0-a624-e71ac63d354e",
   "metadata": {},
   "source": [
    "Now let's see them on the map:"
   ]
  },
  {
   "cell_type": "code",
   "execution_count": null,
   "id": "cc5bc72a-f4ed-42a7-a8cc-5f345bb2aa38",
   "metadata": {},
   "outputs": [],
   "source": [
    "all_thames_sorted.plot(facecolor='None')\n",
    "current_axes = plt.gca() # we want all of these commands to plot on the same set of axes, this retrieves a 'handle' to the axes\n",
    "largest_thames.plot(facecolor='green', ax=current_axes, zorder=0) # note we specify the axes \n",
    "smallest_thames.plot(facecolor='blue', ax=current_axes)"
   ]
  },
  {
   "cell_type": "markdown",
   "id": "bc9f1382-7af7-4805-80cd-dc277eecde48",
   "metadata": {},
   "source": [
    "Can you spot the blue catchment? What do you think the 'zorder' parameter is doing?"
   ]
  },
  {
   "cell_type": "markdown",
   "id": "9cb757d3-b81b-461b-8b4c-5f148932b800",
   "metadata": {},
   "source": [
    "Now let's spruce up our plots a bit. We can use the [Cartopy](https://scitools.org.uk/cartopy/docs/latest/) package to produce good plots."
   ]
  },
  {
   "cell_type": "code",
   "execution_count": null,
   "id": "d8591aa4-0b21-4772-b1ce-7a4693ec33ae",
   "metadata": {},
   "outputs": [],
   "source": [
    "gbax = plt.axes(projection=cp.crs.OSGB())\n",
    "gbax.set_global()\n",
    "gbax.coastlines(resolution='10m')\n",
    "thames.plot(ax=gbax, facecolor='green')\n",
    "rivers = cp.feature.NaturalEarthFeature('physical', 'rivers_lake_centerlines', '10m', edgecolor='blue', facecolor='none', lw=0.5)\n",
    "gbax.add_feature(rivers)"
   ]
  },
  {
   "cell_type": "markdown",
   "id": "884d282d-75c2-4701-b7b9-930603d2e1e3",
   "metadata": {},
   "source": [
    "Now we can see where the Thames catchment sits in the UK!"
   ]
  },
  {
   "cell_type": "markdown",
   "id": "167e32fd-b054-40f6-8218-f89a85ef3818",
   "metadata": {},
   "source": [
    "There's a lot to unpack in the commands we used though, so let's go through that:"
   ]
  },
  {
   "cell_type": "markdown",
   "id": "0451af19-2411-4167-bd5b-8c3acc32b6fd",
   "metadata": {},
   "source": [
    "```gbax = plt.axes(projection=cp.crs.OSGB())```"
   ]
  },
  {
   "cell_type": "markdown",
   "id": "a2e53fe5-afd7-4f30-9ed2-f8aea9223ce4",
   "metadata": {},
   "source": [
    "Here we are creating a set of axes that we'll be using for the plot. The ```projection``` argument defines what map projection to use for the plotting. In this case we are using the Ordnance Survey's grid, which approximates the UK as a flat plane with x/y coordinates. "
   ]
  },
  {
   "cell_type": "markdown",
   "id": "30c0ebe9-af2b-461e-9c1b-c78eebd6b57d",
   "metadata": {},
   "source": [
    "**Note:** The OSGB projection matches the coordinate system that the shapefile is defined on. In the UK this is typical for hydrological data. Datasets covering other geographical areas are more likely to be a lonlat grid, or sometimes a UTM cartesian grid (which the OSGB grid is an example of). For lonlat grids a good default for the projection argument would be ```projection=cp.crs.PlateCarree()```. Sometimes you can find out which coordinate system the shapefile is using from the crs attribute, e.g.: ```shapefile.crs```."
   ]
  },
  {
   "cell_type": "markdown",
   "id": "65e4e82f-05e9-46d9-a136-ec9730e8e81e",
   "metadata": {},
   "source": [
    "```gbax.set_global()```"
   ]
  },
  {
   "cell_type": "markdown",
   "id": "7a32978f-1f42-4752-b695-523f40ebf98a",
   "metadata": {},
   "source": [
    "This forces the axes to their maximum possible extent for the given projection."
   ]
  },
  {
   "cell_type": "markdown",
   "id": "b5c0496a-3ebe-4041-b0e5-7a35099b0759",
   "metadata": {},
   "source": [
    "What happens if we remove this?"
   ]
  },
  {
   "cell_type": "markdown",
   "id": "4cc8eab1-085d-4740-be5f-9c57f6ffdfc2",
   "metadata": {},
   "source": [
    "```gbax.coastlines(resolution='10m')```"
   ]
  },
  {
   "cell_type": "markdown",
   "id": "a78fca75-9401-493c-a914-14245d54ca1c",
   "metadata": {},
   "source": [
    "This adds coastlines to the axes."
   ]
  },
  {
   "cell_type": "markdown",
   "id": "ff72871f-78d7-4a22-96c5-23dc07e779d7",
   "metadata": {},
   "source": [
    "```thames.plot(ax=gbax, facecolor='green')```"
   ]
  },
  {
   "cell_type": "markdown",
   "id": "ec5c859c-5b97-4ab5-81b1-a2aeda860abf",
   "metadata": {},
   "source": [
    "This is the same plotting function we've been using throughout, with the addition of specifying the axes on which we wish to plot, and the colour of the shape(s) we are plotting."
   ]
  },
  {
   "cell_type": "markdown",
   "id": "923d195a-af02-4f8a-b518-bbf336f55edd",
   "metadata": {},
   "source": [
    "```rivers = cp.feature.NaturalEarthFeature('physical', 'rivers_lake_centerlines', '10m', edgecolor='blue', facecolor='none', lw=0.5)```"
   ]
  },
  {
   "cell_type": "markdown",
   "id": "2e44787a-b1a7-41ff-b09c-c062bea03220",
   "metadata": {},
   "source": [
    "This one looks complicated but really it's just accessing a built-in shapefile that cartopy has access to. ```physical``` is the category, ```rivers_lake_centerlines``` is the name of the dataset, ```10m``` is the resolution we want to use, then ```edgecolour``` and ```facecolor``` are the same as in the plotting command and ```lw=0.5``` sets the line-width of the plotted shapes."
   ]
  },
  {
   "cell_type": "markdown",
   "id": "1ac57dff-83cf-469a-8f60-c05b9b2decb3",
   "metadata": {},
   "source": [
    "**Further info:** Cartopy is actually accessing the shapefile datasets from the [Natural Earth website](https://www.naturalearthdata.com/downloads/). See what other datasets you can make use of for free!"
   ]
  },
  {
   "cell_type": "markdown",
   "id": "22892b03-bb0c-405f-b7d1-e8a71ce71e65",
   "metadata": {},
   "source": [
    "**Further info:** There is also a UK Rivers shapefile available on the object store at 's3://example-data/main_uk_river_1km.zip', see if you can plot it instead of the cartopy built-in."
   ]
  },
  {
   "cell_type": "code",
   "execution_count": null,
   "id": "89ddc489-6c36-4dcd-8772-5bf990c76788",
   "metadata": {},
   "outputs": [],
   "source": [
    "rivers_shapefile = gpd.read_file(s3.open('s3://example-data/main_uk_river_1km.zip'))"
   ]
  },
  {
   "cell_type": "code",
   "execution_count": null,
   "id": "eafcf537-420c-4a0b-bab8-3b6ef882e3e9",
   "metadata": {},
   "outputs": [],
   "source": [
    "gbax = plt.axes(projection=cp.crs.OSGB())\n",
    "fig = plt.gcf()\n",
    "fig.set_size_inches(18.5, 10.5, forward=True)\n",
    "gbax.set_global()\n",
    "gbax.coastlines(resolution='10m')\n",
    "thames.plot(ax=gbax, facecolor='green')\n",
    "rivers_shapefile.plot(ax=gbax, facecolor='None', edgecolor='blue', lw=0.5)"
   ]
  },
  {
   "cell_type": "markdown",
   "id": "6f3ef5be-953b-4d17-80dc-5add2365d2f5",
   "metadata": {},
   "source": [
    "We can go one step further and easily plot the shapefile data on a zoomable interactive map:"
   ]
  },
  {
   "cell_type": "code",
   "execution_count": null,
   "id": "48578f7b-fbce-4ef0-9f53-9ebb62b80e9d",
   "metadata": {},
   "outputs": [],
   "source": [
    "thames.crs = 27700\n",
    "\n",
    "m = thames.explore(style_kwds={'color': 'black', 'fill': False})"
   ]
  },
  {
   "cell_type": "code",
   "execution_count": null,
   "id": "faf901cb-f948-4743-9102-92be0ecf0d92",
   "metadata": {},
   "outputs": [],
   "source": [
    "m"
   ]
  },
  {
   "cell_type": "markdown",
   "id": "957fdffb-0561-472d-bb9a-977b28e99283",
   "metadata": {},
   "source": [
    "To plot multiple shapefiles on one map, we have to first set up the base map manually. The ```explore()``` function uses a package called [folium](https://python-visualization.github.io/folium/latest/) under the hood, so we use this to set up our base map. To get the map to open with a specific location centred and at a specific zoom level, the ```location``` and ```zoom_start``` parameters can be specified. The ```location``` parameter is specified as [lat,lon] and picking the right zoom level is trial and error, but as a rough guide it starts at 1 (most zoomed out). "
   ]
  },
  {
   "cell_type": "code",
   "execution_count": null,
   "id": "d4589862-30a1-4a14-916b-f3b4d197b45f",
   "metadata": {},
   "outputs": [],
   "source": [
    "mapplot = folium.Map(location=[51.5, -1], zoom_start=8)\n",
    "thames.explore(m=mapplot, style_kwds={'color': 'black', 'fill': False})\n",
    "rivers_shapefile.crs = 27700\n",
    "rivers_shapefile.explore(m=mapplot, style_kwds={'fill': False, 'color': 'blue', 'opacity': 0.5})"
   ]
  },
  {
   "cell_type": "markdown",
   "id": "d7f622e2-f4be-4ea9-a498-8c0ad000d021",
   "metadata": {},
   "source": [
    "The ```explore()``` function is very customisable, see below for all the options. Have a play around and see what more you can do!"
   ]
  },
  {
   "cell_type": "markdown",
   "id": "875c6f1a-0b01-4ec2-a263-8d52a6e1bfbb",
   "metadata": {},
   "source": [
    "**Note:** The 'crs' (coordinate reference system) needs to be set in order to be plotted with the ```explore()``` function. This specifies the coordinate system the shapefile is using, so that the ```explore()``` function knows how to interpret the coordinates of the shapes in the shapefile and where to put them on a map."
   ]
  },
  {
   "cell_type": "code",
   "execution_count": null,
   "id": "4c77ecd9-508d-4c9e-9cdf-5912f309ecb4",
   "metadata": {
    "scrolled": true
   },
   "outputs": [],
   "source": [
    "thames.explore?"
   ]
  },
  {
   "cell_type": "markdown",
   "id": "14bf5e6a-d56a-4391-ae82-0d199390e535",
   "metadata": {},
   "source": [
    "One cool thing you can do, to finish this section, is save this map to a html file which you can then open with any internet browser:"
   ]
  },
  {
   "cell_type": "code",
   "execution_count": null,
   "id": "1bbf17c6-1844-4f32-ace2-72b9e1dd47db",
   "metadata": {},
   "outputs": [],
   "source": [
    "mapplot.save('thames_cat_map.html')"
   ]
  },
  {
   "cell_type": "markdown",
   "id": "27aa8f00-1c6c-4df0-8101-d9d9f720e20b",
   "metadata": {},
   "source": [
    "## Other vector data formats"
   ]
  },
  {
   "cell_type": "markdown",
   "id": "38994969-8c4c-4b1c-8a2e-f8be4859c46e",
   "metadata": {},
   "source": [
    "You may come across [geojson](https://geojson.org/) files as a popular alternative to shapefiles. Geopandas can work with these too, and the functionality is exactly the same as if you were working with shapefiles. For example:"
   ]
  },
  {
   "cell_type": "code",
   "execution_count": null,
   "id": "d0f39eb9-f5d9-4e0c-8d1a-771e8642182e",
   "metadata": {},
   "outputs": [],
   "source": [
    "scotland = gpd.read_file(s3.open(\"s3://example-data/scotland_boundaries.geojson\"))"
   ]
  },
  {
   "cell_type": "code",
   "execution_count": null,
   "id": "a61c1979-bbe2-4539-8dd4-2404aacea564",
   "metadata": {},
   "outputs": [],
   "source": [
    "scotland.plot()"
   ]
  },
  {
   "cell_type": "markdown",
   "id": "3d49a431-a23e-42a6-bb4a-211e2ed1814f",
   "metadata": {},
   "source": [
    "Sometimes you may find geographical information has been stored in text-based csv files. Once again geopandas can work with these in the same way as the other formats mentioned, though reading them in involves slightly different commands:"
   ]
  },
  {
   "cell_type": "code",
   "execution_count": null,
   "id": "c27ced0e-878a-4bcd-90bf-6d90357635d9",
   "metadata": {},
   "outputs": [],
   "source": [
    "buoys = pd.read_csv(s3.open(\"s3://example-data/buoy_data.csv\"))"
   ]
  },
  {
   "cell_type": "code",
   "execution_count": null,
   "id": "30593096-4b16-4d9e-87c5-ed010ce1d415",
   "metadata": {},
   "outputs": [],
   "source": [
    "buoys"
   ]
  },
  {
   "cell_type": "markdown",
   "id": "de67e008-001c-4230-8b08-5b7a417d1cc0",
   "metadata": {},
   "source": [
    "Note that we have used *Pandas* instead of *Geo*pandas to read in this file as it is a text file, not a file container vectors. The location information in this csv file is stored in the latitude and longitude columns. *Geo*pandas can be told to make these into vector points:"
   ]
  },
  {
   "cell_type": "code",
   "execution_count": null,
   "id": "b7e52a86-cdeb-4106-b843-28254c074315",
   "metadata": {},
   "outputs": [],
   "source": [
    "buoys_geo = gpd.GeoDataFrame(buoys, geometry=gpd.points_from_xy(buoys.longitude, buoys.latitude),\n",
    "                             crs=\"EPSG:4326\")"
   ]
  },
  {
   "cell_type": "markdown",
   "id": "303f5862-2e90-4b29-85c5-bc26071b82a5",
   "metadata": {},
   "source": [
    "Note we use the [4326 EPSG code](https://epsg.io/4326) for the coordinate reference system, as this is the standard one for longitude and latitude coordinate systems."
   ]
  },
  {
   "cell_type": "code",
   "execution_count": null,
   "id": "2313ee9e-87fd-496d-96a8-252c0da4253f",
   "metadata": {},
   "outputs": [],
   "source": [
    "buoys_geo"
   ]
  },
  {
   "cell_type": "code",
   "execution_count": null,
   "id": "ff18dfb9-5b99-4cf1-bf59-993c9af77389",
   "metadata": {},
   "outputs": [],
   "source": [
    "gbax = plt.axes(projection=cp.crs.PlateCarree())\n",
    "gbax.coastlines(resolution='10m')\n",
    "buoys_geo.plot(ax=gbax, color='red')"
   ]
  },
  {
   "cell_type": "markdown",
   "id": "e213af44-5088-4a93-a6c6-ba21f801f51a",
   "metadata": {},
   "source": [
    "**Note:** we are using the [PlateCarree projection](https://scitools.org.uk/cartopy/docs/v0.15/crs/projections.html#platecarree), which is a standard one to use for plotting data in lon/lat coordinates."
   ]
  },
  {
   "cell_type": "markdown",
   "id": "6697da24-2be7-43b5-b939-5078d042efbd",
   "metadata": {},
   "source": [
    "## Further Resources"
   ]
  },
  {
   "cell_type": "markdown",
   "id": "06c1ce1d-4fa2-4a54-b96b-bacd48ba50de",
   "metadata": {},
   "source": [
    "- [Geopandas documentation](https://geopandas.org/en/stable/)\n",
    "- [Wikipedia over-detailed description of Shapefiles](https://en.wikipedia.org/wiki/Shapefile)\n",
    "- [geoJSON](https://geojson.org/)\n",
    "- [EPSG Codes](https://epsg.org/home.html)\n",
    "- [Cartopy projections](https://scitools.org.uk/cartopy/docs/v0.15/crs/projections.html)"
   ]
  },
  {
   "cell_type": "code",
   "execution_count": null,
   "id": "139e5be6-4aa9-4b1c-9ffc-92653fdb46ad",
   "metadata": {},
   "outputs": [],
   "source": []
  }
 ],
 "metadata": {
  "kernelspec": {
   "display_name": "zarrv3",
   "language": "python",
   "name": "zarrv3"
  },
  "language_info": {
   "codemirror_mode": {
    "name": "ipython",
    "version": 3
   },
   "file_extension": ".py",
   "mimetype": "text/x-python",
   "name": "python",
   "nbconvert_exporter": "python",
   "pygments_lexer": "ipython3",
   "version": "3.13.3"
  }
 },
 "nbformat": 4,
 "nbformat_minor": 5
}
